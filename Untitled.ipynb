{
 "cells": [
  {
   "cell_type": "code",
   "execution_count": 1,
   "id": "3b9a6615",
   "metadata": {},
   "outputs": [
    {
     "name": "stdout",
     "output_type": "stream",
     "text": [
      "Requirement already satisfied: pywedge in c:\\users\\user\\onedrive\\documents\\envs\\notebook\\lib\\site-packages (0.5.1.8)\n",
      "Requirement already satisfied: xgboost in c:\\users\\user\\onedrive\\documents\\envs\\notebook\\lib\\site-packages (from pywedge) (2.0.0)\n",
      "Requirement already satisfied: pandas in c:\\users\\user\\onedrive\\documents\\envs\\notebook\\lib\\site-packages (from pywedge) (2.1.0)\n",
      "Requirement already satisfied: catboost>0.24 in c:\\users\\user\\onedrive\\documents\\envs\\notebook\\lib\\site-packages (from pywedge) (1.2.2)\n",
      "Requirement already satisfied: numpy in c:\\users\\user\\onedrive\\documents\\envs\\notebook\\lib\\site-packages (from pywedge) (1.22.4)\n",
      "Requirement already satisfied: scikit-learn in c:\\users\\user\\onedrive\\documents\\envs\\notebook\\lib\\site-packages (from pywedge) (1.3.1)\n",
      "Requirement already satisfied: imbalanced-learn in c:\\users\\user\\onedrive\\documents\\envs\\notebook\\lib\\site-packages (from pywedge) (0.11.0)\n",
      "Requirement already satisfied: plotly in c:\\users\\user\\onedrive\\documents\\envs\\notebook\\lib\\site-packages (from pywedge) (5.17.0)\n",
      "Requirement already satisfied: ipywidgets in c:\\users\\user\\onedrive\\documents\\envs\\notebook\\lib\\site-packages (from pywedge) (8.1.1)\n",
      "Requirement already satisfied: tqdm in c:\\users\\user\\onedrive\\documents\\envs\\notebook\\lib\\site-packages (from pywedge) (4.66.1)\n",
      "Requirement already satisfied: graphviz in c:\\users\\user\\onedrive\\documents\\envs\\notebook\\lib\\site-packages (from catboost>0.24->pywedge) (0.20.1)\n",
      "Requirement already satisfied: matplotlib in c:\\users\\user\\onedrive\\documents\\envs\\notebook\\lib\\site-packages (from catboost>0.24->pywedge) (3.4.3)\n",
      "Requirement already satisfied: scipy in c:\\users\\user\\onedrive\\documents\\envs\\notebook\\lib\\site-packages (from catboost>0.24->pywedge) (1.11.3)\n",
      "Requirement already satisfied: six in c:\\users\\user\\onedrive\\documents\\envs\\notebook\\lib\\site-packages (from catboost>0.24->pywedge) (1.16.0)\n",
      "Requirement already satisfied: python-dateutil>=2.8.2 in c:\\users\\user\\onedrive\\documents\\envs\\notebook\\lib\\site-packages (from pandas->pywedge) (2.8.2)\n",
      "Requirement already satisfied: pytz>=2020.1 in c:\\users\\user\\onedrive\\documents\\envs\\notebook\\lib\\site-packages (from pandas->pywedge) (2022.7)\n",
      "Requirement already satisfied: tzdata>=2022.1 in c:\\users\\user\\onedrive\\documents\\envs\\notebook\\lib\\site-packages (from pandas->pywedge) (2023.3)\n",
      "Requirement already satisfied: joblib>=1.1.1 in c:\\users\\user\\onedrive\\documents\\envs\\notebook\\lib\\site-packages (from imbalanced-learn->pywedge) (1.3.2)\n",
      "Requirement already satisfied: threadpoolctl>=2.0.0 in c:\\users\\user\\onedrive\\documents\\envs\\notebook\\lib\\site-packages (from imbalanced-learn->pywedge) (3.2.0)\n",
      "Requirement already satisfied: comm>=0.1.3 in c:\\users\\user\\onedrive\\documents\\envs\\notebook\\lib\\site-packages (from ipywidgets->pywedge) (0.1.4)\n",
      "Requirement already satisfied: ipython>=6.1.0 in c:\\users\\user\\onedrive\\documents\\envs\\notebook\\lib\\site-packages (from ipywidgets->pywedge) (8.12.2)\n",
      "Requirement already satisfied: traitlets>=4.3.1 in c:\\users\\user\\onedrive\\documents\\envs\\notebook\\lib\\site-packages (from ipywidgets->pywedge) (5.7.1)\n",
      "Requirement already satisfied: widgetsnbextension~=4.0.9 in c:\\users\\user\\onedrive\\documents\\envs\\notebook\\lib\\site-packages (from ipywidgets->pywedge) (4.0.9)\n",
      "Requirement already satisfied: jupyterlab-widgets~=3.0.9 in c:\\users\\user\\onedrive\\documents\\envs\\notebook\\lib\\site-packages (from ipywidgets->pywedge) (3.0.9)\n",
      "Requirement already satisfied: tenacity>=6.2.0 in c:\\users\\user\\onedrive\\documents\\envs\\notebook\\lib\\site-packages (from plotly->pywedge) (8.2.3)\n",
      "Requirement already satisfied: packaging in c:\\users\\user\\onedrive\\documents\\envs\\notebook\\lib\\site-packages (from plotly->pywedge) (23.1)\n",
      "Requirement already satisfied: colorama in c:\\users\\user\\onedrive\\documents\\envs\\notebook\\lib\\site-packages (from tqdm->pywedge) (0.4.6)\n",
      "Requirement already satisfied: backcall in c:\\users\\user\\onedrive\\documents\\envs\\notebook\\lib\\site-packages (from ipython>=6.1.0->ipywidgets->pywedge) (0.2.0)\n",
      "Requirement already satisfied: decorator in c:\\users\\user\\onedrive\\documents\\envs\\notebook\\lib\\site-packages (from ipython>=6.1.0->ipywidgets->pywedge) (5.1.1)\n",
      "Requirement already satisfied: jedi>=0.16 in c:\\users\\user\\onedrive\\documents\\envs\\notebook\\lib\\site-packages (from ipython>=6.1.0->ipywidgets->pywedge) (0.18.1)\n",
      "Requirement already satisfied: matplotlib-inline in c:\\users\\user\\onedrive\\documents\\envs\\notebook\\lib\\site-packages (from ipython>=6.1.0->ipywidgets->pywedge) (0.1.6)\n",
      "Requirement already satisfied: pickleshare in c:\\users\\user\\onedrive\\documents\\envs\\notebook\\lib\\site-packages (from ipython>=6.1.0->ipywidgets->pywedge) (0.7.5)\n",
      "Requirement already satisfied: prompt-toolkit!=3.0.37,<3.1.0,>=3.0.30 in c:\\users\\user\\onedrive\\documents\\envs\\notebook\\lib\\site-packages (from ipython>=6.1.0->ipywidgets->pywedge) (3.0.36)\n",
      "Requirement already satisfied: pygments>=2.4.0 in c:\\users\\user\\onedrive\\documents\\envs\\notebook\\lib\\site-packages (from ipython>=6.1.0->ipywidgets->pywedge) (2.15.1)\n",
      "Requirement already satisfied: stack-data in c:\\users\\user\\onedrive\\documents\\envs\\notebook\\lib\\site-packages (from ipython>=6.1.0->ipywidgets->pywedge) (0.2.0)\n",
      "Requirement already satisfied: typing-extensions in c:\\users\\user\\onedrive\\documents\\envs\\notebook\\lib\\site-packages (from ipython>=6.1.0->ipywidgets->pywedge) (4.7.1)\n",
      "Requirement already satisfied: cycler>=0.10 in c:\\users\\user\\onedrive\\documents\\envs\\notebook\\lib\\site-packages (from matplotlib->catboost>0.24->pywedge) (0.11.0)\n",
      "Requirement already satisfied: kiwisolver>=1.0.1 in c:\\users\\user\\onedrive\\documents\\envs\\notebook\\lib\\site-packages (from matplotlib->catboost>0.24->pywedge) (1.4.4)\n",
      "Requirement already satisfied: pillow>=6.2.0 in c:\\users\\user\\onedrive\\documents\\envs\\notebook\\lib\\site-packages (from matplotlib->catboost>0.24->pywedge) (9.4.0)\n",
      "Requirement already satisfied: pyparsing>=2.2.1 in c:\\users\\user\\onedrive\\documents\\envs\\notebook\\lib\\site-packages (from matplotlib->catboost>0.24->pywedge) (3.1.1)\n",
      "Requirement already satisfied: parso<0.9.0,>=0.8.0 in c:\\users\\user\\onedrive\\documents\\envs\\notebook\\lib\\site-packages (from jedi>=0.16->ipython>=6.1.0->ipywidgets->pywedge) (0.8.3)\n",
      "Requirement already satisfied: wcwidth in c:\\users\\user\\onedrive\\documents\\envs\\notebook\\lib\\site-packages (from prompt-toolkit!=3.0.37,<3.1.0,>=3.0.30->ipython>=6.1.0->ipywidgets->pywedge) (0.2.5)\n",
      "Requirement already satisfied: executing in c:\\users\\user\\onedrive\\documents\\envs\\notebook\\lib\\site-packages (from stack-data->ipython>=6.1.0->ipywidgets->pywedge) (0.8.3)\n",
      "Requirement already satisfied: asttokens in c:\\users\\user\\onedrive\\documents\\envs\\notebook\\lib\\site-packages (from stack-data->ipython>=6.1.0->ipywidgets->pywedge) (2.0.5)\n",
      "Requirement already satisfied: pure-eval in c:\\users\\user\\onedrive\\documents\\envs\\notebook\\lib\\site-packages (from stack-data->ipython>=6.1.0->ipywidgets->pywedge) (0.2.2)\n",
      "Note: you may need to restart the kernel to use updated packages.\n"
     ]
    }
   ],
   "source": [
    "pip install pywedge"
   ]
  },
  {
   "cell_type": "code",
   "execution_count": 2,
   "id": "bea63374",
   "metadata": {},
   "outputs": [],
   "source": [
    "import pandas as pd\n",
    "import pywedge as pw"
   ]
  },
  {
   "cell_type": "code",
   "execution_count": 7,
   "id": "0510f309",
   "metadata": {},
   "outputs": [
    {
     "data": {
      "text/html": [
       "<div>\n",
       "<style scoped>\n",
       "    .dataframe tbody tr th:only-of-type {\n",
       "        vertical-align: middle;\n",
       "    }\n",
       "\n",
       "    .dataframe tbody tr th {\n",
       "        vertical-align: top;\n",
       "    }\n",
       "\n",
       "    .dataframe thead th {\n",
       "        text-align: right;\n",
       "    }\n",
       "</style>\n",
       "<table border=\"1\" class=\"dataframe\">\n",
       "  <thead>\n",
       "    <tr style=\"text-align: right;\">\n",
       "      <th></th>\n",
       "      <th>Unnamed: 0</th>\n",
       "      <th>Year_x</th>\n",
       "      <th>Period</th>\n",
       "      <th>Avg hrs per day sleeping</th>\n",
       "      <th>Standard Error</th>\n",
       "      <th>Type of Days</th>\n",
       "      <th>Age Group_x</th>\n",
       "      <th>Activity</th>\n",
       "      <th>Gender_x</th>\n",
       "      <th>Unique ID</th>\n",
       "      <th>Age Group_y</th>\n",
       "      <th>Year_y</th>\n",
       "      <th>Gender_y</th>\n",
       "      <th>Number with income (thousands)</th>\n",
       "      <th>Mean income</th>\n",
       "      <th>2022\\ndollars</th>\n",
       "    </tr>\n",
       "  </thead>\n",
       "  <tbody>\n",
       "    <tr>\n",
       "      <th>0</th>\n",
       "      <td>0</td>\n",
       "      <td>2003</td>\n",
       "      <td>Annual</td>\n",
       "      <td>8.48</td>\n",
       "      <td>0.031</td>\n",
       "      <td>All days</td>\n",
       "      <td>15 years and over</td>\n",
       "      <td>Sleeping</td>\n",
       "      <td>Male</td>\n",
       "      <td>2003-15 years and over-Male</td>\n",
       "      <td>15 years and over</td>\n",
       "      <td>2003</td>\n",
       "      <td>Male</td>\n",
       "      <td>100800</td>\n",
       "      <td>41480</td>\n",
       "      <td>63070</td>\n",
       "    </tr>\n",
       "    <tr>\n",
       "      <th>1</th>\n",
       "      <td>1</td>\n",
       "      <td>2004</td>\n",
       "      <td>Annual</td>\n",
       "      <td>8.48</td>\n",
       "      <td>0.040</td>\n",
       "      <td>All days</td>\n",
       "      <td>15 years and over</td>\n",
       "      <td>Sleeping</td>\n",
       "      <td>Male</td>\n",
       "      <td>2004-15 years and over-Male</td>\n",
       "      <td>15 years and over</td>\n",
       "      <td>2004</td>\n",
       "      <td>Male</td>\n",
       "      <td>101800</td>\n",
       "      <td>42830</td>\n",
       "      <td>63530</td>\n",
       "    </tr>\n",
       "    <tr>\n",
       "      <th>2</th>\n",
       "      <td>2</td>\n",
       "      <td>2005</td>\n",
       "      <td>Annual</td>\n",
       "      <td>8.53</td>\n",
       "      <td>0.034</td>\n",
       "      <td>All days</td>\n",
       "      <td>15 years and over</td>\n",
       "      <td>Sleeping</td>\n",
       "      <td>Male</td>\n",
       "      <td>2005-15 years and over-Male</td>\n",
       "      <td>15 years and over</td>\n",
       "      <td>2005</td>\n",
       "      <td>Male</td>\n",
       "      <td>103000</td>\n",
       "      <td>44850</td>\n",
       "      <td>64650</td>\n",
       "    </tr>\n",
       "    <tr>\n",
       "      <th>3</th>\n",
       "      <td>3</td>\n",
       "      <td>2006</td>\n",
       "      <td>Annual</td>\n",
       "      <td>8.56</td>\n",
       "      <td>0.035</td>\n",
       "      <td>All days</td>\n",
       "      <td>15 years and over</td>\n",
       "      <td>Sleeping</td>\n",
       "      <td>Male</td>\n",
       "      <td>2006-15 years and over-Male</td>\n",
       "      <td>15 years and over</td>\n",
       "      <td>2006</td>\n",
       "      <td>Male</td>\n",
       "      <td>103900</td>\n",
       "      <td>46680</td>\n",
       "      <td>65390</td>\n",
       "    </tr>\n",
       "    <tr>\n",
       "      <th>4</th>\n",
       "      <td>4</td>\n",
       "      <td>2007</td>\n",
       "      <td>Annual</td>\n",
       "      <td>8.52</td>\n",
       "      <td>0.038</td>\n",
       "      <td>All days</td>\n",
       "      <td>15 years and over</td>\n",
       "      <td>Sleeping</td>\n",
       "      <td>Male</td>\n",
       "      <td>2007-15 years and over-Male</td>\n",
       "      <td>15 years and over</td>\n",
       "      <td>2007</td>\n",
       "      <td>Male</td>\n",
       "      <td>104800</td>\n",
       "      <td>47140</td>\n",
       "      <td>64380</td>\n",
       "    </tr>\n",
       "  </tbody>\n",
       "</table>\n",
       "</div>"
      ],
      "text/plain": [
       "   Unnamed: 0  Year_x  Period  Avg hrs per day sleeping  Standard Error  \\\n",
       "0           0    2003  Annual                      8.48           0.031   \n",
       "1           1    2004  Annual                      8.48           0.040   \n",
       "2           2    2005  Annual                      8.53           0.034   \n",
       "3           3    2006  Annual                      8.56           0.035   \n",
       "4           4    2007  Annual                      8.52           0.038   \n",
       "\n",
       "  Type of Days        Age Group_x  Activity Gender_x  \\\n",
       "0     All days  15 years and over  Sleeping     Male   \n",
       "1     All days  15 years and over  Sleeping     Male   \n",
       "2     All days  15 years and over  Sleeping     Male   \n",
       "3     All days  15 years and over  Sleeping     Male   \n",
       "4     All days  15 years and over  Sleeping     Male   \n",
       "\n",
       "                     Unique ID        Age Group_y  Year_y Gender_y  \\\n",
       "0  2003-15 years and over-Male  15 years and over    2003     Male   \n",
       "1  2004-15 years and over-Male  15 years and over    2004     Male   \n",
       "2  2005-15 years and over-Male  15 years and over    2005     Male   \n",
       "3  2006-15 years and over-Male  15 years and over    2006     Male   \n",
       "4  2007-15 years and over-Male  15 years and over    2007     Male   \n",
       "\n",
       "   Number with income (thousands)  Mean income  2022\\ndollars  \n",
       "0                          100800        41480          63070  \n",
       "1                          101800        42830          63530  \n",
       "2                          103000        44850          64650  \n",
       "3                          103900        46680          65390  \n",
       "4                          104800        47140          64380  "
      ]
     },
     "execution_count": 7,
     "metadata": {},
     "output_type": "execute_result"
    }
   ],
   "source": [
    "df = pd.read_csv(\"Resources/all_data_v3.csv\")\n",
    "df.head()"
   ]
  },
  {
   "cell_type": "code",
   "execution_count": 9,
   "id": "31917976",
   "metadata": {},
   "outputs": [
    {
     "data": {
      "text/plain": [
       "Index(['Unnamed: 0', 'Year_x', 'Period', 'Avg hrs per day sleeping',\n",
       "       'Standard Error', 'Type of Days', 'Age Group_x', 'Activity', 'Gender_x',\n",
       "       'Unique ID', 'Age Group_y', 'Year_y', 'Gender_y',\n",
       "       'Number with income (thousands)', 'Mean income', '2022\\ndollars'],\n",
       "      dtype='object')"
      ]
     },
     "execution_count": 9,
     "metadata": {},
     "output_type": "execute_result"
    }
   ],
   "source": [
    "df.columns"
   ]
  },
  {
   "cell_type": "code",
   "execution_count": 14,
   "id": "2ccf4295",
   "metadata": {},
   "outputs": [
    {
     "ename": "TypeError",
     "evalue": "drop() takes from 1 to 2 positional arguments but 3 were given",
     "output_type": "error",
     "traceback": [
      "\u001b[1;31m---------------------------------------------------------------------------\u001b[0m",
      "\u001b[1;31mTypeError\u001b[0m                                 Traceback (most recent call last)",
      "Cell \u001b[1;32mIn[14], line 1\u001b[0m\n\u001b[1;32m----> 1\u001b[0m mc \u001b[38;5;241m=\u001b[39m \u001b[43mpw\u001b[49m\u001b[38;5;241;43m.\u001b[39;49m\u001b[43mPywedge_Charts\u001b[49m\u001b[43m(\u001b[49m\u001b[43mdf\u001b[49m\u001b[43m,\u001b[49m\u001b[43m \u001b[49m\u001b[43mc\u001b[49m\u001b[38;5;241;43m=\u001b[39;49m\u001b[38;5;28;43;01mNone\u001b[39;49;00m\u001b[43m,\u001b[49m\u001b[43m \u001b[49m\u001b[43my\u001b[49m\u001b[38;5;241;43m=\u001b[39;49m\u001b[43m \u001b[49m\u001b[38;5;124;43m'\u001b[39;49m\u001b[38;5;124;43mYear_x\u001b[39;49m\u001b[38;5;124;43m'\u001b[39;49m\u001b[43m)\u001b[49m\n",
      "File \u001b[1;32m~\\OneDrive\\Documents\\envs\\notebook\\lib\\site-packages\\pywedge\\pywedge.py:27\u001b[0m, in \u001b[0;36mPywedge_Charts.__init__\u001b[1;34m(self, train, c, y, manual)\u001b[0m\n\u001b[0;32m     25\u001b[0m \u001b[38;5;28mself\u001b[39m\u001b[38;5;241m.\u001b[39mc \u001b[38;5;241m=\u001b[39m c\n\u001b[0;32m     26\u001b[0m \u001b[38;5;28mself\u001b[39m\u001b[38;5;241m.\u001b[39my \u001b[38;5;241m=\u001b[39m y\n\u001b[1;32m---> 27\u001b[0m \u001b[38;5;28mself\u001b[39m\u001b[38;5;241m.\u001b[39mX \u001b[38;5;241m=\u001b[39m \u001b[38;5;28;43mself\u001b[39;49m\u001b[38;5;241;43m.\u001b[39;49m\u001b[43mtrain\u001b[49m\u001b[38;5;241;43m.\u001b[39;49m\u001b[43mdrop\u001b[49m\u001b[43m(\u001b[49m\u001b[38;5;28;43mself\u001b[39;49m\u001b[38;5;241;43m.\u001b[39;49m\u001b[43my\u001b[49m\u001b[43m,\u001b[49m\u001b[38;5;241;43m1\u001b[39;49m\u001b[43m)\u001b[49m\n\u001b[0;32m     28\u001b[0m \u001b[38;5;28mself\u001b[39m\u001b[38;5;241m.\u001b[39mmanual \u001b[38;5;241m=\u001b[39m manual\n",
      "\u001b[1;31mTypeError\u001b[0m: drop() takes from 1 to 2 positional arguments but 3 were given"
     ]
    }
   ],
   "source": [
    "mc = pw.Pywedge_Charts(df, c=None, y= 'Year_x')"
   ]
  },
  {
   "cell_type": "code",
   "execution_count": 15,
   "id": "63ad0bc3",
   "metadata": {},
   "outputs": [
    {
     "ename": "NameError",
     "evalue": "name 'mc' is not defined",
     "output_type": "error",
     "traceback": [
      "\u001b[1;31m---------------------------------------------------------------------------\u001b[0m",
      "\u001b[1;31mNameError\u001b[0m                                 Traceback (most recent call last)",
      "Cell \u001b[1;32mIn[15], line 1\u001b[0m\n\u001b[1;32m----> 1\u001b[0m Charts \u001b[38;5;241m=\u001b[39m \u001b[43mmc\u001b[49m\u001b[38;5;241m.\u001b[39mmake_Charts()\n",
      "\u001b[1;31mNameError\u001b[0m: name 'mc' is not defined"
     ]
    }
   ],
   "source": [
    "Charts = mc.make_Charts()"
   ]
  }
 ],
 "metadata": {
  "kernelspec": {
   "display_name": "Python 3 (ipykernel)",
   "language": "python",
   "name": "python3"
  },
  "language_info": {
   "codemirror_mode": {
    "name": "ipython",
    "version": 3
   },
   "file_extension": ".py",
   "mimetype": "text/x-python",
   "name": "python",
   "nbconvert_exporter": "python",
   "pygments_lexer": "ipython3",
   "version": "3.9.17"
  }
 },
 "nbformat": 4,
 "nbformat_minor": 5
}
